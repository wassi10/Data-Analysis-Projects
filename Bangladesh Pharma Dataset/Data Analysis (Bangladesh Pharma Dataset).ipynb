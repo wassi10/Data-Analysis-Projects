{
 "cells": [
  {
   "cell_type": "markdown",
   "id": "26f3bf7f",
   "metadata": {},
   "source": [
    "Khadiza Akther, \n",
    "ID: XH2314"
   ]
  },
  {
   "cell_type": "markdown",
   "id": "76373911",
   "metadata": {},
   "source": [
    "# Import Libraries"
   ]
  },
  {
   "cell_type": "code",
   "execution_count": 53,
   "id": "58641100",
   "metadata": {},
   "outputs": [],
   "source": [
    "import pandas as pd\n",
    "import matplotlib.pyplot as plt\n",
    "import seaborn as sns\n",
    "import warnings\n",
    "\n",
    "warnings.filterwarnings('ignore')"
   ]
  },
  {
   "cell_type": "markdown",
   "id": "1e2153ec",
   "metadata": {},
   "source": [
    "# Loading the Dataset"
   ]
  },
  {
   "cell_type": "code",
   "execution_count": 54,
   "id": "3cf367b0",
   "metadata": {},
   "outputs": [],
   "source": [
    "df = pd.read_excel('data.xlsx')"
   ]
  },
  {
   "cell_type": "markdown",
   "id": "4098c338",
   "metadata": {},
   "source": [
    "#  Exploratory Data Analysis"
   ]
  },
  {
   "cell_type": "code",
   "execution_count": 55,
   "id": "b0b10fd4",
   "metadata": {},
   "outputs": [
    {
     "data": {
      "text/html": [
       "<div>\n",
       "<style scoped>\n",
       "    .dataframe tbody tr th:only-of-type {\n",
       "        vertical-align: middle;\n",
       "    }\n",
       "\n",
       "    .dataframe tbody tr th {\n",
       "        vertical-align: top;\n",
       "    }\n",
       "\n",
       "    .dataframe thead th {\n",
       "        text-align: right;\n",
       "    }\n",
       "</style>\n",
       "<table border=\"1\" class=\"dataframe\">\n",
       "  <thead>\n",
       "    <tr style=\"text-align: right;\">\n",
       "      <th></th>\n",
       "      <th>#SL</th>\n",
       "      <th>Name of the Manufacturer</th>\n",
       "      <th>Brand Name</th>\n",
       "      <th>Generic Name</th>\n",
       "      <th>Strength</th>\n",
       "      <th>Dosage Description</th>\n",
       "      <th>Price</th>\n",
       "      <th>Use For</th>\n",
       "      <th>DAR</th>\n",
       "    </tr>\n",
       "  </thead>\n",
       "  <tbody>\n",
       "    <tr>\n",
       "      <th>0</th>\n",
       "      <td>1</td>\n",
       "      <td>ACI HealthCare Limited</td>\n",
       "      <td>Nimocon 500</td>\n",
       "      <td>Azithromycin</td>\n",
       "      <td>500 mg</td>\n",
       "      <td>Tablet</td>\n",
       "      <td>0</td>\n",
       "      <td>Human</td>\n",
       "      <td>394-0001-023</td>\n",
       "    </tr>\n",
       "    <tr>\n",
       "      <th>1</th>\n",
       "      <td>2</td>\n",
       "      <td>ACI HealthCare Limited</td>\n",
       "      <td>Adbon</td>\n",
       "      <td>Calcium + Vitamin D3</td>\n",
       "      <td>500 mg + 200 IU</td>\n",
       "      <td>Tablet</td>\n",
       "      <td>0</td>\n",
       "      <td>Human</td>\n",
       "      <td>394-0002-062</td>\n",
       "    </tr>\n",
       "    <tr>\n",
       "      <th>2</th>\n",
       "      <td>3</td>\n",
       "      <td>ACI HealthCare Limited</td>\n",
       "      <td>Opental 50</td>\n",
       "      <td>Tramadol Hydrochloride</td>\n",
       "      <td>50 mg</td>\n",
       "      <td>Tablet</td>\n",
       "      <td>0</td>\n",
       "      <td>Human</td>\n",
       "      <td>394-0003-065</td>\n",
       "    </tr>\n",
       "    <tr>\n",
       "      <th>3</th>\n",
       "      <td>4</td>\n",
       "      <td>ACI HealthCare Limited</td>\n",
       "      <td>Acidex 20</td>\n",
       "      <td>Omeprazole</td>\n",
       "      <td>20 mg</td>\n",
       "      <td>Capsule</td>\n",
       "      <td>0</td>\n",
       "      <td>Human</td>\n",
       "      <td>394-0004-067</td>\n",
       "    </tr>\n",
       "    <tr>\n",
       "      <th>4</th>\n",
       "      <td>5</td>\n",
       "      <td>ACI HealthCare Limited</td>\n",
       "      <td>Neutin 600</td>\n",
       "      <td>Gabapentin</td>\n",
       "      <td>600 mg</td>\n",
       "      <td>Tablet</td>\n",
       "      <td>0</td>\n",
       "      <td>Human</td>\n",
       "      <td>394-0005-046</td>\n",
       "    </tr>\n",
       "  </tbody>\n",
       "</table>\n",
       "</div>"
      ],
      "text/plain": [
       "   #SL Name of the Manufacturer   Brand Name            Generic Name  \\\n",
       "0    1   ACI HealthCare Limited  Nimocon 500            Azithromycin   \n",
       "1    2   ACI HealthCare Limited        Adbon    Calcium + Vitamin D3   \n",
       "2    3   ACI HealthCare Limited   Opental 50  Tramadol Hydrochloride   \n",
       "3    4   ACI HealthCare Limited    Acidex 20              Omeprazole   \n",
       "4    5   ACI HealthCare Limited   Neutin 600              Gabapentin   \n",
       "\n",
       "          Strength Dosage Description Price Use For           DAR  \n",
       "0           500 mg             Tablet     0   Human  394-0001-023  \n",
       "1  500 mg + 200 IU             Tablet     0   Human  394-0002-062  \n",
       "2            50 mg             Tablet     0   Human  394-0003-065  \n",
       "3            20 mg            Capsule     0   Human  394-0004-067  \n",
       "4           600 mg             Tablet     0   Human  394-0005-046  "
      ]
     },
     "execution_count": 55,
     "metadata": {},
     "output_type": "execute_result"
    }
   ],
   "source": [
    "df.head()"
   ]
  },
  {
   "cell_type": "code",
   "execution_count": 56,
   "id": "ad09831d",
   "metadata": {},
   "outputs": [
    {
     "data": {
      "text/html": [
       "<div>\n",
       "<style scoped>\n",
       "    .dataframe tbody tr th:only-of-type {\n",
       "        vertical-align: middle;\n",
       "    }\n",
       "\n",
       "    .dataframe tbody tr th {\n",
       "        vertical-align: top;\n",
       "    }\n",
       "\n",
       "    .dataframe thead th {\n",
       "        text-align: right;\n",
       "    }\n",
       "</style>\n",
       "<table border=\"1\" class=\"dataframe\">\n",
       "  <thead>\n",
       "    <tr style=\"text-align: right;\">\n",
       "      <th></th>\n",
       "      <th>#SL</th>\n",
       "      <th>Name of the Manufacturer</th>\n",
       "      <th>Brand Name</th>\n",
       "      <th>Generic Name</th>\n",
       "      <th>Strength</th>\n",
       "      <th>Dosage Description</th>\n",
       "      <th>Price</th>\n",
       "      <th>Use For</th>\n",
       "      <th>DAR</th>\n",
       "    </tr>\n",
       "  </thead>\n",
       "  <tbody>\n",
       "    <tr>\n",
       "      <th>35010</th>\n",
       "      <td>35011</td>\n",
       "      <td>Ziska Pharmaceuticals Ltd.</td>\n",
       "      <td>Esoprol 20 MUPS</td>\n",
       "      <td>Esomeprazole</td>\n",
       "      <td>20 mg</td>\n",
       "      <td>Mups Tablet</td>\n",
       "      <td>0</td>\n",
       "      <td>Human</td>\n",
       "      <td>242-0575-067</td>\n",
       "    </tr>\n",
       "    <tr>\n",
       "      <th>35011</th>\n",
       "      <td>35012</td>\n",
       "      <td>Ziska Pharmaceuticals Ltd.</td>\n",
       "      <td>Esoprol 40 MUPS</td>\n",
       "      <td>Esomeprazole</td>\n",
       "      <td>40 mg</td>\n",
       "      <td>Mups Tablet</td>\n",
       "      <td>0</td>\n",
       "      <td>Human</td>\n",
       "      <td>242-0574-067</td>\n",
       "    </tr>\n",
       "    <tr>\n",
       "      <th>35012</th>\n",
       "      <td>35013</td>\n",
       "      <td>Ziska Pharmaceuticals Ltd.</td>\n",
       "      <td>Tizaro2.5 Pre-filled Syringe</td>\n",
       "      <td>Tirzepatide</td>\n",
       "      <td>2.5 mg/.5 ml</td>\n",
       "      <td>Injection</td>\n",
       "      <td>0</td>\n",
       "      <td>Human</td>\n",
       "      <td>242-0571-015</td>\n",
       "    </tr>\n",
       "    <tr>\n",
       "      <th>35013</th>\n",
       "      <td>35014</td>\n",
       "      <td>Ziska Pharmaceuticals Ltd.</td>\n",
       "      <td>Tizaro 5 Pre-filled Syringe</td>\n",
       "      <td>Tirzepatide</td>\n",
       "      <td>5 mg/.5 ml</td>\n",
       "      <td>Injection</td>\n",
       "      <td>0</td>\n",
       "      <td>Human</td>\n",
       "      <td>242-0570-015</td>\n",
       "    </tr>\n",
       "    <tr>\n",
       "      <th>35014</th>\n",
       "      <td>35015</td>\n",
       "      <td>Ziska Pharmaceuticals Ltd.</td>\n",
       "      <td>Tizaro 7.5 Pre-filled Syringe</td>\n",
       "      <td>Tirzepatide</td>\n",
       "      <td>7.5 mg/.5 ml</td>\n",
       "      <td>Injection</td>\n",
       "      <td>0</td>\n",
       "      <td>Human</td>\n",
       "      <td>242-0572-015</td>\n",
       "    </tr>\n",
       "  </tbody>\n",
       "</table>\n",
       "</div>"
      ],
      "text/plain": [
       "         #SL    Name of the Manufacturer                     Brand Name  \\\n",
       "35010  35011  Ziska Pharmaceuticals Ltd.                Esoprol 20 MUPS   \n",
       "35011  35012  Ziska Pharmaceuticals Ltd.                Esoprol 40 MUPS   \n",
       "35012  35013  Ziska Pharmaceuticals Ltd.   Tizaro2.5 Pre-filled Syringe   \n",
       "35013  35014  Ziska Pharmaceuticals Ltd.    Tizaro 5 Pre-filled Syringe   \n",
       "35014  35015  Ziska Pharmaceuticals Ltd.  Tizaro 7.5 Pre-filled Syringe   \n",
       "\n",
       "       Generic Name      Strength Dosage Description Price Use For  \\\n",
       "35010  Esomeprazole         20 mg        Mups Tablet     0   Human   \n",
       "35011  Esomeprazole         40 mg        Mups Tablet     0   Human   \n",
       "35012   Tirzepatide  2.5 mg/.5 ml          Injection     0   Human   \n",
       "35013   Tirzepatide    5 mg/.5 ml          Injection     0   Human   \n",
       "35014   Tirzepatide  7.5 mg/.5 ml          Injection     0   Human   \n",
       "\n",
       "                DAR  \n",
       "35010  242-0575-067  \n",
       "35011  242-0574-067  \n",
       "35012  242-0571-015  \n",
       "35013  242-0570-015  \n",
       "35014  242-0572-015  "
      ]
     },
     "execution_count": 56,
     "metadata": {},
     "output_type": "execute_result"
    }
   ],
   "source": [
    "df.tail()"
   ]
  },
  {
   "cell_type": "code",
   "execution_count": 57,
   "id": "51c00603",
   "metadata": {},
   "outputs": [
    {
     "data": {
      "text/plain": [
       "(35015, 9)"
      ]
     },
     "execution_count": 57,
     "metadata": {},
     "output_type": "execute_result"
    }
   ],
   "source": [
    "df.shape"
   ]
  },
  {
   "cell_type": "code",
   "execution_count": 58,
   "id": "2b2d9194",
   "metadata": {},
   "outputs": [
    {
     "data": {
      "text/plain": [
       "Index(['#SL', 'Name of the Manufacturer', 'Brand Name', 'Generic Name',\n",
       "       'Strength', 'Dosage Description', 'Price', 'Use For', 'DAR'],\n",
       "      dtype='object')"
      ]
     },
     "execution_count": 58,
     "metadata": {},
     "output_type": "execute_result"
    }
   ],
   "source": [
    "df.columns"
   ]
  },
  {
   "cell_type": "code",
   "execution_count": 59,
   "id": "b0cb954a",
   "metadata": {
    "scrolled": true
   },
   "outputs": [
    {
     "name": "stdout",
     "output_type": "stream",
     "text": [
      "<class 'pandas.core.frame.DataFrame'>\n",
      "RangeIndex: 35015 entries, 0 to 35014\n",
      "Data columns (total 9 columns):\n",
      " #   Column                    Non-Null Count  Dtype \n",
      "---  ------                    --------------  ----- \n",
      " 0   #SL                       35015 non-null  int64 \n",
      " 1   Name of the Manufacturer  35015 non-null  object\n",
      " 2   Brand Name                35012 non-null  object\n",
      " 3   Generic Name              35015 non-null  object\n",
      " 4   Strength                  35015 non-null  object\n",
      " 5   Dosage Description        35015 non-null  object\n",
      " 6   Price                     35015 non-null  object\n",
      " 7   Use For                   35015 non-null  object\n",
      " 8   DAR                       35015 non-null  object\n",
      "dtypes: int64(1), object(8)\n",
      "memory usage: 2.4+ MB\n"
     ]
    }
   ],
   "source": [
    "df.info()"
   ]
  },
  {
   "cell_type": "code",
   "execution_count": 60,
   "id": "94d56592",
   "metadata": {},
   "outputs": [
    {
     "data": {
      "text/html": [
       "<div>\n",
       "<style scoped>\n",
       "    .dataframe tbody tr th:only-of-type {\n",
       "        vertical-align: middle;\n",
       "    }\n",
       "\n",
       "    .dataframe tbody tr th {\n",
       "        vertical-align: top;\n",
       "    }\n",
       "\n",
       "    .dataframe thead th {\n",
       "        text-align: right;\n",
       "    }\n",
       "</style>\n",
       "<table border=\"1\" class=\"dataframe\">\n",
       "  <thead>\n",
       "    <tr style=\"text-align: right;\">\n",
       "      <th></th>\n",
       "      <th>Name of the Manufacturer</th>\n",
       "      <th>Brand Name</th>\n",
       "      <th>Generic Name</th>\n",
       "      <th>Strength</th>\n",
       "      <th>Dosage Description</th>\n",
       "      <th>Price</th>\n",
       "      <th>Use For</th>\n",
       "      <th>DAR</th>\n",
       "    </tr>\n",
       "  </thead>\n",
       "  <tbody>\n",
       "    <tr>\n",
       "      <th>count</th>\n",
       "      <td>35015</td>\n",
       "      <td>35012</td>\n",
       "      <td>35015</td>\n",
       "      <td>35015</td>\n",
       "      <td>35015</td>\n",
       "      <td>35015</td>\n",
       "      <td>35015</td>\n",
       "      <td>35015</td>\n",
       "    </tr>\n",
       "    <tr>\n",
       "      <th>unique</th>\n",
       "      <td>215</td>\n",
       "      <td>31301</td>\n",
       "      <td>1687</td>\n",
       "      <td>1397</td>\n",
       "      <td>139</td>\n",
       "      <td>2845</td>\n",
       "      <td>3</td>\n",
       "      <td>34843</td>\n",
       "    </tr>\n",
       "    <tr>\n",
       "      <th>top</th>\n",
       "      <td>Incepta Pharmaceuticals Ltd.</td>\n",
       "      <td>Water for Injection</td>\n",
       "      <td>Ciprofloxacin</td>\n",
       "      <td>500 mg</td>\n",
       "      <td>Tablet</td>\n",
       "      <td>0</td>\n",
       "      <td>Human</td>\n",
       "      <td>272--023</td>\n",
       "    </tr>\n",
       "    <tr>\n",
       "      <th>freq</th>\n",
       "      <td>1335</td>\n",
       "      <td>69</td>\n",
       "      <td>516</td>\n",
       "      <td>1969</td>\n",
       "      <td>16162</td>\n",
       "      <td>13284</td>\n",
       "      <td>33086</td>\n",
       "      <td>4</td>\n",
       "    </tr>\n",
       "  </tbody>\n",
       "</table>\n",
       "</div>"
      ],
      "text/plain": [
       "            Name of the Manufacturer           Brand Name   Generic Name  \\\n",
       "count                          35015                35012          35015   \n",
       "unique                           215                31301           1687   \n",
       "top     Incepta Pharmaceuticals Ltd.  Water for Injection  Ciprofloxacin   \n",
       "freq                            1335                   69            516   \n",
       "\n",
       "       Strength Dosage Description  Price Use For       DAR  \n",
       "count     35015              35015  35015   35015     35015  \n",
       "unique     1397                139   2845       3     34843  \n",
       "top      500 mg             Tablet      0   Human  272--023  \n",
       "freq       1969              16162  13284   33086         4  "
      ]
     },
     "execution_count": 60,
     "metadata": {},
     "output_type": "execute_result"
    }
   ],
   "source": [
    "# Object means categorical column\n",
    "df.describe(include='object')"
   ]
  },
  {
   "cell_type": "code",
   "execution_count": 61,
   "id": "eea6075b",
   "metadata": {},
   "outputs": [
    {
     "name": "stdout",
     "output_type": "stream",
     "text": [
      "Name of the Manufacturer\n",
      "['ACI HealthCare Limited' 'Active Fine Chemicals Ltd.'\n",
      " 'Ad-din Pharmaceuticals Ltd.' 'Adova Pharmaceuticals Ltd.'\n",
      " 'Advanced Chemical Industries Limited' 'Advent Pharma Ltd.'\n",
      " 'AFC Agro Biotech Ltd.' 'Al-Madina Pharmaceuticals Ltd.'\n",
      " 'Albion Laboratories Ltd.' 'Alco Pharma Limited' 'Alkad Laboratories'\n",
      " 'Allied Pharmaceuticals Ltd.' 'Ambee Pharmaceuticals Ltd.'\n",
      " 'Amico Laboratories Ltd.' 'Amulet Pharmaceuticals Ltd.'\n",
      " 'APC Pharma Limited' 'Apex Pharma Ltd.'\n",
      " 'Apollo Pharmaceutical Laboratories Ltd.' 'Arges Life Science Ltd.'\n",
      " 'Aristopharma Limited' 'Aristopharma Limited, Gazipur'\n",
      " 'Army Pharma Limited' 'Asiatic Laboratories Ltd.'\n",
      " 'Astra Biopharmaceuticals Ltd.' 'Avarox Pharmaceuticals Ltd.'\n",
      " 'Aztec Pharmaceuticals Ltd.' 'Bangladesh Antibiotic Industries Limited'\n",
      " 'Beacon Cephalosporin Ltd.,' 'Beacon Pharmaceuticals PLC'\n",
      " 'Belsen Pharmaceuticals Ltd.' 'Bengal Drugs & Chemical Works Pharm. Ltd.'\n",
      " 'Bengal Remedies Ltd.' 'Benham Pharmaceuticals Ltd.'\n",
      " 'Beximco Pharmaceuticals Ltd.' 'Beximco Pharmaceuticals Ltd., Kaliakoir'\n",
      " 'Bexter Pharmaceuticals' 'Biogen Pharmaceuticals Ltd.' 'Biopharma Ltd.'\n",
      " 'Bridge Pharmaceuticals Ltd.' 'Bristol Pharma Ltd.' 'C2C Pharma Limited'\n",
      " 'Centeon Pharma Limited' 'Central Pharmaceutical Ltd.'\n",
      " 'Chemist Laboratories Ltd.' 'Cipla Ltd.' 'Concord Pharmaceuticals Ltd.'\n",
      " 'Cosmic Pharma Ltd.' 'Cosmo Pharma Laboratories Ltd.'\n",
      " 'DBL Pharmaceuticals Limited' 'Decent Pharma Laboratories Ltd.'\n",
      " 'Delta Pharma Limited' 'Desh Pharmaceuticals Ltd.' 'Dider Pharma Ltd.,'\n",
      " 'Doctor Tims Pharmaceuticals Ltd.' \"Doctor's Chemicals Works Ltd.\"\n",
      " 'Drug International Ltd.' 'Drug International Ltd., Gopalpur'\n",
      " 'Drug International Ltd., Squib Road' 'EDCL (Bogra)' 'EDCL (Dhaka)'\n",
      " 'Edruc Ltd.' 'EMCS Pharma Limited' 'Eon Pharmaceuticals Ltd.'\n",
      " 'Eskayef Pharmaceuticals Ltd. Chandana, Gazipur'\n",
      " 'Eskayef Pharmaceuticals Ltd. Mirpur.'\n",
      " 'Eskayef Pharmaceuticals Ltd., Narayanganj'\n",
      " 'Eskayef Pharmaceuticals Ltd., Tongi,Gazipur' 'Ethical Drug Ltd.'\n",
      " 'Euro Pharma Ltd.' 'Everest Pharmaceuticals Ltd.'\n",
      " 'FnF Pharmaceuticals Ltd.' 'G. A. Company Ltd.'\n",
      " 'General Pharmaceuticals Ltd, Unit-2' 'General Pharmaceuticals Ltd.'\n",
      " 'Gentry Pharmaceuticals Ltd.' 'Genvio Pharma Ltd.' 'Get Well Limited'\n",
      " 'Global Capsules Ltd.' 'Global Capsules Ltd., Gelatin Division'\n",
      " 'Global Heavy Chemicals Ltd.' 'Globe Pharmaceuticals Ltd.'\n",
      " 'Globex Pharmaceuticals Ltd.' 'Gonoshasthaya Basic Chemical Ltd.'\n",
      " 'Gonoshasthaya Pharmaceuticals Ltd.' 'Goodman Pharmaceuticals Ltd'\n",
      " 'Greenland Pharmaceuticals Ltd.' 'Guardian Healthcare Ltd.'\n",
      " 'Healthcare Pharmaceuticals Ltd.' 'Hudson Pharmaceuticals Ltd.'\n",
      " 'Ibn Sina Pharmaceutical Ind. Ltd.' 'Incepta Pharmaceuticals Ltd.'\n",
      " 'Incepta Pharmaceuticals Ltd. (Dhamrai Unit)'\n",
      " 'Incepta Pharmaceuticals Ltd., Chemical Division'\n",
      " 'Incepta Pharmaceuticals Ltd., Vaccine Division'\n",
      " 'Indo-Bangla Pharmaceuticals Ltd.' 'Islam Oxygen (Pvt) Ltd.'\n",
      " 'Jayson Pharmaceuticals Ltd.' 'Jenphar Bangladesh Ltd.'\n",
      " 'JMI Industrial Gas Ltd.' 'JMI Syringes & Medical Devices Ltd.'\n",
      " 'JR Pharmaceuticals Ltd.' 'Kemiko Pharmaceuticals Ltd.'\n",
      " 'Kumudini Pharma Ltd.' 'Labaid Pharmaceuticals Ltd.'\n",
      " 'Leader Pharmaceuticals Limited' 'Leon Pharmaceuticals Ltd.'\n",
      " 'Libra Infusion Limited' 'Linde Bangladesh Limited' 'Maks Drugs Ltd.'\n",
      " 'Marksman Pharmaceutical Ltd.' 'Medicon Pharmaceuticals Ltd.'\n",
      " 'Medimet Pharmaceuticals Ltd.' 'MedRx Life Science Ltd.'\n",
      " 'Millat Pharmaceuticals Ltd.' 'Modern Pharmaceuticals Ltd.'\n",
      " 'Momtaz Pharmaceuticals Ltd.' 'Monicopharma Limited'\n",
      " 'MSF Pharmaceuticals Ltd.,' 'MST Pharma and Healthcare Ltd.'\n",
      " 'Mundipharma (Bangladesh) Pvt. Ltd.' 'Mystic Pharmaceuticals Ltd.'\n",
      " 'Naafco Pharma Ltd.' 'National Drug Company Ltd.'\n",
      " 'National Laboratories Ltd.' 'Navana Pharmaceuticals Ltd.'\n",
      " 'Newtec Pharmaceuticals Ltd.' 'Nip Chemicals And Pharmaceuticals Ltd.'\n",
      " 'Nipa Pharmaceuticals Ltd.' 'NIPRO JMI Company Ltd.'\n",
      " 'NIPRO JMI Pharma Limited' 'Novartis  (Bangladesh) Ltd.'\n",
      " 'Novatek Pharmaceuticals Ltd.' 'Novo Healthcare and Pharma Ltd.'\n",
      " 'Novo Healthcare and Pharma Ltd. (Unit-2)' 'Novus Pharmaceuticals Ltd.'\n",
      " 'Nuvista Pharma Ltd' 'One Pharma Ltd.' 'Opsonin Bulk Drugs Ltd.'\n",
      " 'Opsonin Pharma Limited' 'Orion Infusion Ltd.' 'Orion Pharma Ltd.'\n",
      " 'OSL Pharma Ltd.' 'Oyster Pharmaceuticals Ltd.'\n",
      " 'Pacific Pharmaceuticals Ltd.' 'Peoples Pharma Ltd.' 'Pharmacil Ltd.'\n",
      " 'Pharmasia Ltd.' 'Pharmatek Chemicals Ltd.' 'Pharmik Laboratories Ltd.'\n",
      " 'Physic Pharmaceuticals Ltd.,' 'Popular Pharmaceuticals Ltd.'\n",
      " 'Premier Pharmaceuticals Ltd.' 'Prime Pharmaceuticals Ltd.'\n",
      " 'Pristine Chem Limited' 'Pristine Pharmaceuticals'\n",
      " 'Purbadesh Chemists Ltd.,' 'Quality Pharmaceuticals (Pvt) Ltd.'\n",
      " 'Radiant Pharmaceuticals Ltd.' 'Rahman Chemicals Ltd.'\n",
      " 'Rampart-Power Bangladesh Ltd.' 'Rangs Pharmaceuticals Ltd.'\n",
      " 'Reckitt Benckiser Bangladesh Ltd.' 'Reliance Pharmaceuticals Ltd.'\n",
      " 'Reman Drug Laboratories Ltd.' 'Remo Chemical Ltd.' 'Renata Limited'\n",
      " 'Renata Limited, Gazipur' 'Renata Ltd., Bhaluka'\n",
      " 'Rephco Pharmaceuticals Ltd.' 'RN Pharmaceuticals'\n",
      " 'Royal Pharmaceuticals Ltd.' 'S. N. Pharmaceuticals Ltd.'\n",
      " 'Save Pharmaceuticals Ltd.' 'Seba Laboratories Ltd.'\n",
      " 'Sharif Pharmaceuticals Ltd.' 'Shinil Pharma Limited'\n",
      " 'Silco Pharmaceuticlas Ltd.' 'Silva Pharmaceuticals Ltd.'\n",
      " 'SMC Enterprise Limited' 'Sodical Chemical Ltd.'\n",
      " 'Somatec Pharmaceuticals Ltd.' 'Spectra International Ltd.,'\n",
      " 'Spectra Oxygen Limited' 'Square Cephalosporins Ltd.'\n",
      " 'Square Formulations Ltd.' 'Square Lifesciences Limited, Pabna'\n",
      " 'Square Pharmaceuticals PLC, (Chemical Division)'\n",
      " 'Square Pharmaceuticals PLC, Gazipur' 'Square Pharmaceuticals PLC, Pabna'\n",
      " 'Standard Laboratories Ltd.' 'Sun Pharmaceutical (Bangladesh) Ltd.'\n",
      " 'Sunman-Birdem Pharma Ltd.' 'Super Power Pharmaceuticals Ltd.'\n",
      " 'Supreme Pharmaceuticals Ltd.' 'Synovia Pharma PLC.'\n",
      " 'Team Pharmaceuticals Ltd.' 'Techno Drugs (Unit-3)' 'Techno Drugs Ltd.'\n",
      " 'Techno Drugs Ltd., Gazipur' 'The ACME Laboratories Ltd.'\n",
      " 'The White Horse Pharmaceuticals Ltd.' 'UNIDO Pharmaceuticals Ltd.'\n",
      " 'Unimed Unihealth Pharmaceuticals Ltd.' 'Union Oxygen Limited'\n",
      " 'Union Pharmaceuticals Ltd.' 'Unique Pharmaceutical Ltd.'\n",
      " 'United Chemicals & Pharmaceuticals Ltd.' 'Veritas Pharmaceuticals Ltd.'\n",
      " 'Vion Pharmaceuticals (Veterinary)' 'Virgo Pharmaceuticals Ltd.'\n",
      " 'Vision Drugs Limited (Veterinary)' 'World API Chemical Industry Ltd.'\n",
      " 'Zenith Pharmaceuticals Ltd.' 'Zhaofeng Gelating Limited'\n",
      " 'Ziska Pharmaceuticals Ltd.']\n",
      "________________________________________________________________________________\n",
      "Brand Name\n",
      "['Nimocon 500' 'Adbon' 'Opental 50' ... 'Tizaro2.5 Pre-filled Syringe'\n",
      " 'Tizaro 5 Pre-filled Syringe' 'Tizaro 7.5 Pre-filled Syringe']\n",
      "________________________________________________________________________________\n",
      "Generic Name\n",
      "['Azithromycin' 'Calcium + Vitamin D3' 'Tramadol Hydrochloride' ...\n",
      " 'Epinephrine + Lidocaine Hydrochloride' 'Filgotinib'\n",
      " 'Icosapent Ethyl (Including D-Alpha-Tocopherol As Antioxidant)']\n",
      "________________________________________________________________________________\n",
      "Strength\n",
      "['500 mg' '500 mg + 200 IU' '50 mg' ... '17 gm/100 ml'\n",
      " '7 gm + 7 gm/100 gm' '25 mg + 200 mg']\n",
      "________________________________________________________________________________\n",
      "Dosage Description\n",
      "['Tablet' 'Capsule' 'Dispersible Tablet' 'Powder For Suspension' 'Syrup'\n",
      " 'Suspension' 'Paediatric Drops' 'Lotion' 'Ointment' 'Oral Saline' 'Cream'\n",
      " 'Gel' 'Suppository' 'Solution' 'Injection' 'IV Injection'\n",
      " 'IV/IM Injection' 'Bolus' 'Powder' 'Water Soluble Powder' 'Oral Solution'\n",
      " 'Oral Powder' 'Eye and Ear Drops' 'IM Injection' 'Eye, Ear & Nasal Drops'\n",
      " 'Vaginal Tablet' 'Eye Drops' 'Hand Rub' 'Oral Gel' 'Gargle & Mouth Wash'\n",
      " 'Xr Tablet' 'Sr Tablet' 'Raw Materials' 'Pellets' 'Eye Ointment'\n",
      " 'Mouth Wash' 'Sr Capsule' 'Aerosol Inhalation' 'Inhaler'\n",
      " 'Inhalation Solution' 'IV Infusion' 'Ors Tablet' 'Orodispersible Tablet'\n",
      " 'Nebuliser Solution' 'Oral Paste' 'Nasal Spray' 'Spray' 'Dr Tablet'\n",
      " 'Cozycap' 'Inhalation Aerosol' 'Inhalation Capsule' 'Nasal Drops'\n",
      " 'Chewable Tablet' 'Topical Solution' 'Cr Tablet' 'Er Tablet'\n",
      " 'Scalp Lotion' 'Oral Drops' 'Granules For Suspension' 'Oral Suspension'\n",
      " 'Mups Tablet' 'Liquid' 'Emulsion' 'Oral Liquid' 'Pellets For Suspension'\n",
      " 'Sachet' 'Elixir' 'Linctus' 'Mouth Dissolving Tablet' 'Sached Powder'\n",
      " 'Ear Drop' 'Eye & Nasal Drops' 'Shampoo' 'Ophthalmic Emulsion' 'Eye Gel'\n",
      " 'Solution For Injection' 'Nebuliser Suspension' 'Solution For Infusion'\n",
      " 'Metered Dose Inhaler' 'Dry Powder Inhaler' 'Soft Gelatin Capsule'\n",
      " 'Odt Tablet' 'Irrigation Solution' 'Rectal Ointment'\n",
      " 'Resperitory Solution' 'Vaginal Cream' 'Respirator Suspension'\n",
      " 'Oral Soluble Film' 'Emulgel' 'Oral Emulsion' 'Rapid Tablet'\n",
      " 'Effervescent Tablet' 'Combipack' 'Hfa Inhaler'\n",
      " 'Powder for Pedriatric Drop' 'Effervescent Granules'\n",
      " 'Extended Release Capsule' 'Mouth Wash Antiseptic' 'Syringe'\n",
      " 'Dialysis Solution' 'Per Rectal' 'Vaccine' 'Vaginal Gel' 'Pr Tablet'\n",
      " 'Dr Granules For Suspension' 'Er Capsule' 'Cr Capsule' 'Gas' 'Tincture'\n",
      " 'Scrub' 'Blood bag' 'Pvc Bag' 'Powder for Solution' 'Pour On (Solution)'\n",
      " 'Ear Spray' 'Blood Tubing Set' 'Powder For Oral Solution' 'Oral Granules'\n",
      " 'Needle for Syringe' 'Butterfly' 'Eye Cleanser Solution'\n",
      " 'Eye and Ear Ointment' 'Delayed Release Capsule' 'Water For Injection'\n",
      " 'Cervical Gel' 'Vaginal Pessary' 'Gum' 'Oral Dental Gel'\n",
      " 'Topical Suspension' 'Md Tablet' 'Inhalation Liquid'\n",
      " 'Viscoelastic Solution' 'Drops' 'Vaginal Suppository' 'Scalp Ointment'\n",
      " 'Sprinkle Capsule' 'M R Capsule' 'M R Tablet' 'Repacking']\n",
      "________________________________________________________________________________\n",
      "Price\n",
      "['0' '6.00 Tk' '17.00 Tk' ... '5.88 Tk' '6.68 Tk' '1450.00 Tk']\n",
      "________________________________________________________________________________\n",
      "Use For\n",
      "['Human' 'Veterinary' 'R']\n",
      "________________________________________________________________________________\n",
      "DAR\n",
      "['394-0001-023' '394-0002-062' '394-0003-065' ... '242-0571-015'\n",
      " '242-0570-015' '242-0572-015']\n",
      "________________________________________________________________________________\n"
     ]
    }
   ],
   "source": [
    "# Which value include to this unique \n",
    "for col in df.describe(include='object').columns:\n",
    "    print(col)\n",
    "    print(df[col].unique())\n",
    "    print('_'*80)"
   ]
  },
  {
   "cell_type": "code",
   "execution_count": 62,
   "id": "ace33a83",
   "metadata": {},
   "outputs": [
    {
     "data": {
      "text/plain": [
       "#SL                         0\n",
       "Name of the Manufacturer    0\n",
       "Brand Name                  3\n",
       "Generic Name                0\n",
       "Strength                    0\n",
       "Dosage Description          0\n",
       "Price                       0\n",
       "Use For                     0\n",
       "DAR                         0\n",
       "dtype: int64"
      ]
     },
     "execution_count": 62,
     "metadata": {},
     "output_type": "execute_result"
    }
   ],
   "source": [
    "df.isnull().sum()"
   ]
  },
  {
   "cell_type": "code",
   "execution_count": 63,
   "id": "afcfdc1d",
   "metadata": {},
   "outputs": [],
   "source": [
    "df.dropna(inplace=True)"
   ]
  },
  {
   "cell_type": "code",
   "execution_count": 64,
   "id": "c01ab419",
   "metadata": {},
   "outputs": [
    {
     "data": {
      "text/plain": [
       "#SL                         0\n",
       "Name of the Manufacturer    0\n",
       "Brand Name                  0\n",
       "Generic Name                0\n",
       "Strength                    0\n",
       "Dosage Description          0\n",
       "Price                       0\n",
       "Use For                     0\n",
       "DAR                         0\n",
       "dtype: int64"
      ]
     },
     "execution_count": 64,
     "metadata": {},
     "output_type": "execute_result"
    }
   ],
   "source": [
    "df.isnull().sum()"
   ]
  },
  {
   "cell_type": "code",
   "execution_count": 65,
   "id": "ac76885b",
   "metadata": {},
   "outputs": [
    {
     "data": {
      "text/plain": [
       "(35012, 9)"
      ]
     },
     "execution_count": 65,
     "metadata": {},
     "output_type": "execute_result"
    }
   ],
   "source": [
    "df.shape"
   ]
  },
  {
   "cell_type": "code",
   "execution_count": null,
   "id": "1bf9d825",
   "metadata": {},
   "outputs": [],
   "source": []
  }
 ],
 "metadata": {
  "kernelspec": {
   "display_name": "Python 3 (ipykernel)",
   "language": "python",
   "name": "python3"
  },
  "language_info": {
   "codemirror_mode": {
    "name": "ipython",
    "version": 3
   },
   "file_extension": ".py",
   "mimetype": "text/x-python",
   "name": "python",
   "nbconvert_exporter": "python",
   "pygments_lexer": "ipython3",
   "version": "3.10.9"
  }
 },
 "nbformat": 4,
 "nbformat_minor": 5
}
